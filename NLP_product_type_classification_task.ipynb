{
  "nbformat": 4,
  "nbformat_minor": 0,
  "metadata": {
    "colab": {
      "name": "NLP_product_type_classification_task.ipynb",
      "provenance": [],
      "collapsed_sections": []
    },
    "kernelspec": {
      "name": "python3",
      "display_name": "Python 3"
    },
    "language_info": {
      "name": "python"
    },
    "accelerator": "GPU"
  },
  "cells": [
    {
      "cell_type": "markdown",
      "metadata": {
        "id": "QCXbtPeIPpxw"
      },
      "source": [
        "# Product type classification from its name and discription\n",
        "\n",
        "Given a training set for product type classification. The task is to build a model to predict the column label, using the other columns as input\n",
        "\n",
        "\n",
        "*Column explanations:*\n",
        "* sku_id – product id\n",
        "* country_name – name of the country in which the product was found\n",
        "* retailer – name of the retailer in which the product was found\n",
        "* breadcrumbs – breadcrumbs, where breadcrumbs show the path of the product in the retailer taxonomy tree\n",
        "* breadcrumbs_t – translated breadcrumbs\n",
        "* name – name of the product\n",
        "* name_t – translated name\n",
        "* pack_size – pack size field of the product\n",
        "* pack_size_t – translated pack size\n",
        "* description_short – product description, possibly truncated to keep maximum length fixed\n",
        "* description_t_short – translated description\n",
        "* resnet50_labels_005 – categories predicted by an image classifier, thresholded at 0.05\n",
        "confidence, joined with '~'\n",
        "* resnet50_labels_06 – categories predicted by an image classifier, thresholded at 0.6 confidence\n",
        "* price – price of the product in USD\n",
        "* label – product type, this is the target to predict"
      ]
    },
    {
      "cell_type": "code",
      "metadata": {
        "colab": {
          "base_uri": "https://localhost:8080/"
        },
        "id": "jP24L8lXf9Jk",
        "outputId": "163c0a67-b3a0-4111-c0be-0cdcaaba3001"
      },
      "source": [
        "from google.colab import drive\n",
        "drive.mount('/content/drive')"
      ],
      "execution_count": null,
      "outputs": [
        {
          "output_type": "stream",
          "name": "stdout",
          "text": [
            "Drive already mounted at /content/drive; to attempt to forcibly remount, call drive.mount(\"/content/drive\", force_remount=True).\n"
          ]
        }
      ]
    },
    {
      "cell_type": "code",
      "metadata": {
        "colab": {
          "base_uri": "https://localhost:8080/"
        },
        "id": "2FNbkfkTgS6-",
        "outputId": "5d3f2c8a-0f2d-4423-d483-cfe8ba3d2170"
      },
      "source": [
        "import numpy as np\n",
        "import pandas as pd\n",
        "import matplotlib.pyplot as plt\n",
        "import nltk\n",
        "from nltk.util import ngrams\n",
        "\n",
        "nltk.download('punkt')\n",
        "\n",
        "from sklearn.feature_extraction.text import TfidfVectorizer\n",
        "from sklearn.model_selection import cross_val_score\n",
        "from sklearn.metrics import confusion_matrix\n",
        "from sklearn.metrics import f1_score\n",
        "from sklearn.pipeline import make_pipeline\n",
        "from sklearn.naive_bayes import MultinomialNB\n",
        "\n",
        "from sklearn.model_selection import train_test_split\n",
        "from sklearn import metrics\n",
        "\n",
        "!pip install autocorrect\n",
        "from autocorrect import Speller\n",
        "import nltk\n",
        "from nltk.corpus import stopwords\n",
        "nltk.download('stopwords')\n",
        "stop_words = stopwords.words('english')\n",
        "stop_words.extend(['from', 'subject', 're', 'edu', 'use'])\n",
        "\n",
        "spell = Speller(lang='en')\n",
        "\n",
        "import seaborn as sns\n",
        "import re\n",
        "\n",
        "import warnings\n",
        "warnings.filterwarnings(\"ignore\")\n",
        "sns.set(rc={'figure.figsize':(15,9)})"
      ],
      "execution_count": null,
      "outputs": [
        {
          "output_type": "stream",
          "name": "stdout",
          "text": [
            "[nltk_data] Downloading package punkt to /root/nltk_data...\n",
            "[nltk_data]   Package punkt is already up-to-date!\n",
            "Requirement already satisfied: autocorrect in /usr/local/lib/python3.7/dist-packages (2.5.0)\n",
            "[nltk_data] Downloading package stopwords to /root/nltk_data...\n",
            "[nltk_data]   Package stopwords is already up-to-date!\n"
          ]
        }
      ]
    },
    {
      "cell_type": "markdown",
      "source": [
        "### Data loading & initial analysis / processing"
      ],
      "metadata": {
        "id": "at5wKvlO3YuD"
      }
    },
    {
      "cell_type": "code",
      "metadata": {
        "colab": {
          "base_uri": "https://localhost:8080/",
          "height": 418
        },
        "id": "vB5E2JNYiaqI",
        "outputId": "25848960-76b9-453a-fa96-881d5d0de9c3"
      },
      "source": [
        "d = pd.read_csv(\"/content/drive/MyDrive/***/train.csv\")\n",
        "d.head()"
      ],
      "execution_count": null,
      "outputs": [
        {
          "output_type": "execute_result",
          "data": {
            "text/html": [
              "<div>\n",
              "<style scoped>\n",
              "    .dataframe tbody tr th:only-of-type {\n",
              "        vertical-align: middle;\n",
              "    }\n",
              "\n",
              "    .dataframe tbody tr th {\n",
              "        vertical-align: top;\n",
              "    }\n",
              "\n",
              "    .dataframe thead th {\n",
              "        text-align: right;\n",
              "    }\n",
              "</style>\n",
              "<table border=\"1\" class=\"dataframe\">\n",
              "  <thead>\n",
              "    <tr style=\"text-align: right;\">\n",
              "      <th></th>\n",
              "      <th>sku_id</th>\n",
              "      <th>country_name</th>\n",
              "      <th>retailer</th>\n",
              "      <th>breadcrumbs</th>\n",
              "      <th>breadcrumbs_t</th>\n",
              "      <th>name</th>\n",
              "      <th>name_t</th>\n",
              "      <th>pack_size</th>\n",
              "      <th>pack_size_t</th>\n",
              "      <th>description_short</th>\n",
              "      <th>description_t_short</th>\n",
              "      <th>resnet50_labels_005</th>\n",
              "      <th>resnet50_labels_06</th>\n",
              "      <th>price</th>\n",
              "      <th>label</th>\n",
              "      <th>label_id</th>\n",
              "    </tr>\n",
              "  </thead>\n",
              "  <tbody>\n",
              "    <tr>\n",
              "      <th>0</th>\n",
              "      <td>22790</td>\n",
              "      <td>USA</td>\n",
              "      <td>amazon</td>\n",
              "      <td>[\"\"Beauty &amp; Personal Care\"\",\"\"Tools &amp; Accessor...</td>\n",
              "      <td>[\"\"Beauty &amp; Personal Care\"\",\"\"Tools &amp; Accessor...</td>\n",
              "      <td>Q-tips Cotton Swabs, 170 ct</td>\n",
              "      <td>Q-tips Cotton Swabs, 170 ct</td>\n",
              "      <td>NaN</td>\n",
              "      <td>NaN</td>\n",
              "      <td>q-tips cotton swabs have a wide variety of use...</td>\n",
              "      <td>q-tips cotton swabs have a wide variety of use...</td>\n",
              "      <td>Band_Aid~can_opener~screwdriver</td>\n",
              "      <td>NaN</td>\n",
              "      <td>2.01000</td>\n",
              "      <td>OUT OF SCOPE</td>\n",
              "      <td>1</td>\n",
              "    </tr>\n",
              "    <tr>\n",
              "      <th>1</th>\n",
              "      <td>60540</td>\n",
              "      <td>USA</td>\n",
              "      <td>Chewy</td>\n",
              "      <td>[\"\"Dog\"\",\"\"Bowls &amp; Feeders\"\",\"\"Fountains &amp; Fil...</td>\n",
              "      <td>[\"\"Dog\"\",\"\"Bowls &amp; Feeders\"\",\"\"Fountains &amp; Fil...</td>\n",
              "      <td>Petmate Fresh Flow Replacement Filters, 6 count</td>\n",
              "      <td>Petmate Fresh Flow Replacement Filters, 6 count</td>\n",
              "      <td>8.3                         x 0.6             ...</td>\n",
              "      <td>8.3                         x 0.6             ...</td>\n",
              "      <td>description the petmate deluxe fresh flow repl...</td>\n",
              "      <td>description the petmate deluxe fresh flow repl...</td>\n",
              "      <td>Band_Aid~web_site</td>\n",
              "      <td>NaN</td>\n",
              "      <td>7.00000</td>\n",
              "      <td>OUT OF SCOPE</td>\n",
              "      <td>1</td>\n",
              "    </tr>\n",
              "    <tr>\n",
              "      <th>2</th>\n",
              "      <td>96170</td>\n",
              "      <td>United Kingdom</td>\n",
              "      <td>Asda</td>\n",
              "      <td>[\"\"Free From\"\",\"\"Free From Chilled &amp; Meat\"\",\"\"...</td>\n",
              "      <td>[\"\"Free From\"\",\"\"Free From Chilled &amp; Meat\"\",\"\"...</td>\n",
              "      <td>ASDA Free From Plain Soya Yogurt</td>\n",
              "      <td>ASDA Free From Plain Soya Yogurt</td>\n",
              "      <td>500g</td>\n",
              "      <td>500g</td>\n",
              "      <td>net content 500 grams ℮ lifestyle suitable for...</td>\n",
              "      <td>net content 500 grams ℮ lifestyle suitable for...</td>\n",
              "      <td>lotion~sunscreen</td>\n",
              "      <td>sunscreen</td>\n",
              "      <td>1.26185</td>\n",
              "      <td>Plain Yoghurt</td>\n",
              "      <td>7</td>\n",
              "    </tr>\n",
              "    <tr>\n",
              "      <th>3</th>\n",
              "      <td>116045</td>\n",
              "      <td>USA</td>\n",
              "      <td>jet.com</td>\n",
              "      <td>[\"\"Pantry &amp; Household\"\",\"\"Household Supplies\"\"...</td>\n",
              "      <td>[\"\"Pantry &amp; Household\"\",\"\"Household Supplies\"\"...</td>\n",
              "      <td>Off! Deep Woods Dry Aerosol, 4 Oz</td>\n",
              "      <td>Off! Deep Woods Dry Aerosol, 4 Oz</td>\n",
              "      <td>12</td>\n",
              "      <td>12</td>\n",
              "      <td>description specs includes 25% deet formula. p...</td>\n",
              "      <td>description specs includes 25% deet formula. p...</td>\n",
              "      <td>can_opener~face_powder~oil_filter~tennis_ball</td>\n",
              "      <td>NaN</td>\n",
              "      <td>6.21000</td>\n",
              "      <td>OUT OF SCOPE</td>\n",
              "      <td>1</td>\n",
              "    </tr>\n",
              "    <tr>\n",
              "      <th>4</th>\n",
              "      <td>120858</td>\n",
              "      <td>USA</td>\n",
              "      <td>CVS</td>\n",
              "      <td>[\"\"Vitamins\"\",\"\"Herbals\"\"]</td>\n",
              "      <td>[\"\"Vitamins\"\",\"\"Herbals\"\"]</td>\n",
              "      <td>Nature's Answer Damiana Leaf Vegetarian Capsul...</td>\n",
              "      <td>Nature's Answer Damiana Leaf Vegetarian Capsul...</td>\n",
              "      <td>90 CT</td>\n",
              "      <td>90 CT</td>\n",
              "      <td>nature's answer capsules feature the highest q...</td>\n",
              "      <td>nature's answer capsules feature the highest q...</td>\n",
              "      <td>face_powder~pill_bottle~sunscreen</td>\n",
              "      <td>pill_bottle</td>\n",
              "      <td>8.49000</td>\n",
              "      <td>OUT OF SCOPE</td>\n",
              "      <td>1</td>\n",
              "    </tr>\n",
              "  </tbody>\n",
              "</table>\n",
              "</div>"
            ],
            "text/plain": [
              "   sku_id    country_name retailer  ...    price          label label_id\n",
              "0   22790             USA   amazon  ...  2.01000   OUT OF SCOPE        1\n",
              "1   60540             USA    Chewy  ...  7.00000   OUT OF SCOPE        1\n",
              "2   96170  United Kingdom     Asda  ...  1.26185  Plain Yoghurt        7\n",
              "3  116045             USA  jet.com  ...  6.21000   OUT OF SCOPE        1\n",
              "4  120858             USA      CVS  ...  8.49000   OUT OF SCOPE        1\n",
              "\n",
              "[5 rows x 16 columns]"
            ]
          },
          "metadata": {},
          "execution_count": 279
        }
      ]
    },
    {
      "cell_type": "code",
      "metadata": {
        "id": "eNj8Jv3SqG1H"
      },
      "source": [
        "test = pd.read_csv(\"/content/drive/MyDrive/***/test.csv\")"
      ],
      "execution_count": null,
      "outputs": []
    },
    {
      "cell_type": "markdown",
      "metadata": {
        "id": "O-7LU4Wa7uqB"
      },
      "source": [
        "Check for missing values"
      ]
    },
    {
      "cell_type": "code",
      "metadata": {
        "colab": {
          "base_uri": "https://localhost:8080/"
        },
        "id": "IZGI6vnNlbsE",
        "outputId": "fe2d9199-dd53-46da-c8be-0ed8f2bedd48"
      },
      "source": [
        "d.isna().sum()"
      ],
      "execution_count": null,
      "outputs": [
        {
          "output_type": "execute_result",
          "data": {
            "text/plain": [
              "sku_id                    0\n",
              "country_name              0\n",
              "retailer                  0\n",
              "breadcrumbs               0\n",
              "breadcrumbs_t             0\n",
              "name                      0\n",
              "name_t                    0\n",
              "pack_size              3294\n",
              "pack_size_t            3295\n",
              "description_short       979\n",
              "description_t_short     980\n",
              "resnet50_labels_005      91\n",
              "resnet50_labels_06     2675\n",
              "price                   163\n",
              "label                     0\n",
              "label_id                  0\n",
              "dtype: int64"
            ]
          },
          "metadata": {},
          "execution_count": 246
        }
      ]
    },
    {
      "cell_type": "markdown",
      "metadata": {
        "id": "1CtYA-dfeg2r"
      },
      "source": [
        "As we can see, there are a few omissions, but we will use NLP to solve this problem, so we will keep only these columns: \n",
        "\n",
        "\n",
        "*   retailer\n",
        "*   breadcrumbs_t\n",
        "*   name_t\n",
        "*   description_t_short\n",
        "\n",
        "\n"
      ]
    },
    {
      "cell_type": "code",
      "metadata": {
        "id": "uokzM1Vul8Cl"
      },
      "source": [
        "d.drop(['pack_size', 'pack_size_t', 'name', 'breadcrumbs', 'description_short', 'price'], axis=1, inplace=True)  "
      ],
      "execution_count": null,
      "outputs": []
    },
    {
      "cell_type": "markdown",
      "metadata": {
        "id": "01UKr3ez9t2J"
      },
      "source": [
        "Let's check how our data is distributed over different classes.\n",
        "From pie chart bellow we can clearly see that dataset is unbalanced. There is ~83% observation that belongs to *OUT OF SCOPE* class and the rest share is spread almost evenly."
      ]
    },
    {
      "cell_type": "code",
      "metadata": {
        "colab": {
          "base_uri": "https://localhost:8080/"
        },
        "id": "hKc8j2WdV4Lr",
        "outputId": "3295c314-1a02-48e3-f259-7e81f0423600"
      },
      "source": [
        "d['label'].value_counts()"
      ],
      "execution_count": null,
      "outputs": [
        {
          "output_type": "execute_result",
          "data": {
            "text/plain": [
              "OUT OF SCOPE          3304\n",
              "Men's Fragrances       193\n",
              "Women's Fragrances     188\n",
              "Dry Dog Food           102\n",
              "Flavoured Yoghurt       80\n",
              "Wet Dog Food            67\n",
              "Plain Yoghurt           49\n",
              "Name: label, dtype: int64"
            ]
          },
          "metadata": {},
          "execution_count": 248
        }
      ]
    },
    {
      "cell_type": "code",
      "metadata": {
        "colab": {
          "base_uri": "https://localhost:8080/",
          "height": 553
        },
        "id": "Yzh1u814jUCc",
        "outputId": "62803a46-4685-4ccc-fa57-46d72b71b2ab"
      },
      "source": [
        "d.groupby('label').size().plot(kind='pie', autopct='%.2f')\n",
        "plt.title('labels percentage')"
      ],
      "execution_count": null,
      "outputs": [
        {
          "output_type": "execute_result",
          "data": {
            "text/plain": [
              "Text(0.5, 1.0, 'labels percentage')"
            ]
          },
          "metadata": {},
          "execution_count": 249
        },
        {
          "output_type": "display_data",
          "data": {
            "image/png": "[encoded data removed]",
            "text/plain": [
              "<Figure size 1080x648 with 1 Axes>"
            ]
          },
          "metadata": {}
        }
      ]
    },
    {
      "cell_type": "markdown",
      "metadata": {
        "id": "Xv89yFE4si3s"
      },
      "source": [
        "As I mentoined above, data set is unbalanced, so in this case to avoid one class bias, dataset was downsampled. Downsampled dataset pie chart is show below, all clases share is equal."
      ]
    },
    {
      "cell_type": "code",
      "metadata": {
        "id": "Ub8QZ5quskov"
      },
      "source": [
        "g = d.groupby('label', group_keys=False)\n",
        "balanced_df = pd.DataFrame(g.apply(lambda x: x.sample(g.size().min()))).reset_index(drop=True)"
      ],
      "execution_count": null,
      "outputs": []
    },
    {
      "cell_type": "code",
      "metadata": {
        "colab": {
          "base_uri": "https://localhost:8080/",
          "height": 553
        },
        "id": "ogZ26KY8su1V",
        "outputId": "bb24c90d-605b-4eab-9aff-ced5430e02b0"
      },
      "source": [
        "balanced_df.groupby('label').size().plot(kind='pie', autopct='%.2f')\n",
        "plt.title('labels percentage')"
      ],
      "execution_count": null,
      "outputs": [
        {
          "output_type": "execute_result",
          "data": {
            "text/plain": [
              "Text(0.5, 1.0, 'labels percentage')"
            ]
          },
          "metadata": {},
          "execution_count": 251
        },
        {
          "output_type": "display_data",
          "data": {
            "image/png": "[encoded data removed]",
            "text/plain": [
              "<Figure size 1080x648 with 1 Axes>"
            ]
          },
          "metadata": {}
        }
      ]
    },
    {
      "cell_type": "markdown",
      "metadata": {
        "id": "GjdZuYwcC15V"
      },
      "source": [
        "Before any ML model, text data must be cleaned and preprocessed, in this case just main preprocessing steps were made:\n",
        "*   data cleaning from special characters, tabs and ect;\n",
        "*   tokenization;\n",
        "*   words with length less than 3 have been filtered out;\n",
        "*   all letters have been changed to lowercase;\n",
        "*   stop words removed.\n",
        "\n",
        "NOTE: additional spelling correction function used, because grammatical errors such as: yougurt, yougurth, youghurt, etc. were observed during the analysis."
      ]
    },
    {
      "cell_type": "code",
      "metadata": {
        "id": "X-nveXbdwo9B"
      },
      "source": [
        "def clean_special_char(text):\n",
        "  #expression = '[^a-zA-Z0-9]'\n",
        "  clean = re.sub('[^a-zA-Z]+', ' ', str(text))\n",
        "\n",
        "  tag = ''\n",
        "  for x in nltk.word_tokenize(clean):\n",
        "    if len(x)>2 and x not in stop_words:\n",
        "      tag = tag + x + ' '\n",
        "      #tag = tag + spell(x) + ' '\n",
        "\n",
        "  return tag.strip().lower()"
      ],
      "execution_count": null,
      "outputs": []
    },
    {
      "cell_type": "markdown",
      "metadata": {
        "id": "M-FdsvI9G_FC"
      },
      "source": [
        "Feature vector consist of concatenated breacrumbs, name and short discription texts."
      ]
    },
    {
      "cell_type": "code",
      "metadata": {
        "id": "Od0tFc2UzMlq"
      },
      "source": [
        "# tokenize and clean tags\n",
        "balanced_df['breadcrumbs_t'] = balanced_df['breadcrumbs_t'].apply(clean_special_char)\n",
        "balanced_df['description_t_short'] = balanced_df['description_t_short'].apply(clean_special_char)\n",
        "balanced_df['name_t'] = balanced_df['name_t'].apply(clean_special_char)\n",
        "balanced_df['retailer'] = balanced_df['retailer'].apply(clean_special_char)\n",
        "\n",
        "balanced_df['full_text'] = balanced_df['breadcrumbs_t'] + balanced_df['description_t_short'] + balanced_df['name_t'] + balanced_df['retailer']\n",
        "\n",
        "df=balanced_df"
      ],
      "execution_count": null,
      "outputs": []
    },
    {
      "cell_type": "code",
      "metadata": {
        "colab": {
          "base_uri": "https://localhost:8080/",
          "height": 285
        },
        "id": "HY99A_7ggTJL",
        "outputId": "e15d9004-6ca1-4c28-a8ba-2c1277d06276"
      },
      "source": [
        "df.head()"
      ],
      "execution_count": null,
      "outputs": [
        {
          "output_type": "execute_result",
          "data": {
            "text/html": [
              "<div>\n",
              "<style scoped>\n",
              "    .dataframe tbody tr th:only-of-type {\n",
              "        vertical-align: middle;\n",
              "    }\n",
              "\n",
              "    .dataframe tbody tr th {\n",
              "        vertical-align: top;\n",
              "    }\n",
              "\n",
              "    .dataframe thead th {\n",
              "        text-align: right;\n",
              "    }\n",
              "</style>\n",
              "<table border=\"1\" class=\"dataframe\">\n",
              "  <thead>\n",
              "    <tr style=\"text-align: right;\">\n",
              "      <th></th>\n",
              "      <th>sku_id</th>\n",
              "      <th>country_name</th>\n",
              "      <th>retailer</th>\n",
              "      <th>breadcrumbs_t</th>\n",
              "      <th>name_t</th>\n",
              "      <th>description_t_short</th>\n",
              "      <th>resnet50_labels_005</th>\n",
              "      <th>resnet50_labels_06</th>\n",
              "      <th>label</th>\n",
              "      <th>label_id</th>\n",
              "      <th>full_text</th>\n",
              "    </tr>\n",
              "  </thead>\n",
              "  <tbody>\n",
              "    <tr>\n",
              "      <th>0</th>\n",
              "      <td>59055535</td>\n",
              "      <td>Spain</td>\n",
              "      <td>mascota planet</td>\n",
              "      <td>dogs food think think belcando adult</td>\n",
              "      <td>belcando adult finest light</td>\n",
              "      <td>belcando adult finest lightpropiedadessabroso ...</td>\n",
              "      <td>binder~book_jacket~cassette~packet~wallet</td>\n",
              "      <td>NaN</td>\n",
              "      <td>Dry Dog Food</td>\n",
              "      <td>2</td>\n",
              "      <td>dogs food think think belcando adultbelcando a...</td>\n",
              "    </tr>\n",
              "    <tr>\n",
              "      <th>1</th>\n",
              "      <td>222757306</td>\n",
              "      <td>Germany</td>\n",
              "      <td>miscota</td>\n",
              "      <td>dogs dog food dry food dogs</td>\n",
              "      <td>prestige junior maxi</td>\n",
              "      <td>prestige junior maxi sole food puppy big breed...</td>\n",
              "      <td>monitor~screen~television~web_site</td>\n",
              "      <td>NaN</td>\n",
              "      <td>Dry Dog Food</td>\n",
              "      <td>2</td>\n",
              "      <td>dogs dog food dry food dogsprestige junior max...</td>\n",
              "    </tr>\n",
              "    <tr>\n",
              "      <th>2</th>\n",
              "      <td>221684774</td>\n",
              "      <td>Brazil</td>\n",
              "      <td>genmarket</td>\n",
              "      <td>pet shop dogs food accessories ration medicame...</td>\n",
              "      <td>ration royal canin fall intestinal low fat</td>\n",
              "      <td>ration royal canin fall intestinal low fat</td>\n",
              "      <td>envelope~packet~plastic_bag</td>\n",
              "      <td>NaN</td>\n",
              "      <td>Dry Dog Food</td>\n",
              "      <td>2</td>\n",
              "      <td>pet shop dogs food accessories ration medicame...</td>\n",
              "    </tr>\n",
              "    <tr>\n",
              "      <th>3</th>\n",
              "      <td>20293961</td>\n",
              "      <td>United Kingdom</td>\n",
              "      <td>sainsburys</td>\n",
              "      <td>pet dog puppy complete dry dog food</td>\n",
              "      <td>bakers puppy food beef vegetable</td>\n",
              "      <td>information description complete pet food pupp...</td>\n",
              "      <td>Band_Aid~can_opener~packet~web_site</td>\n",
              "      <td>NaN</td>\n",
              "      <td>Dry Dog Food</td>\n",
              "      <td>2</td>\n",
              "      <td>pet dog puppy complete dry dog foodinformation...</td>\n",
              "    </tr>\n",
              "    <tr>\n",
              "      <th>4</th>\n",
              "      <td>19935050</td>\n",
              "      <td>United Kingdom</td>\n",
              "      <td>sainsburys</td>\n",
              "      <td>pet dog puppy senior dog years dry dog food</td>\n",
              "      <td>vet kitchen senior years salmon brown rice</td>\n",
              "      <td>information description reduced protein fat fi...</td>\n",
              "      <td>cassette~hand-held_computer~web_site</td>\n",
              "      <td>NaN</td>\n",
              "      <td>Dry Dog Food</td>\n",
              "      <td>2</td>\n",
              "      <td>pet dog puppy senior dog years dry dog foodinf...</td>\n",
              "    </tr>\n",
              "  </tbody>\n",
              "</table>\n",
              "</div>"
            ],
            "text/plain": [
              "      sku_id  ...                                          full_text\n",
              "0   59055535  ...  dogs food think think belcando adultbelcando a...\n",
              "1  222757306  ...  dogs dog food dry food dogsprestige junior max...\n",
              "2  221684774  ...  pet shop dogs food accessories ration medicame...\n",
              "3   20293961  ...  pet dog puppy complete dry dog foodinformation...\n",
              "4   19935050  ...  pet dog puppy senior dog years dry dog foodinf...\n",
              "\n",
              "[5 rows x 11 columns]"
            ]
          },
          "metadata": {},
          "execution_count": 254
        }
      ]
    },
    {
      "cell_type": "markdown",
      "source": [
        "### Training"
      ],
      "metadata": {
        "id": "TVz3Tf1Q31Pd"
      }
    },
    {
      "cell_type": "markdown",
      "metadata": {
        "id": "ZcSM1qmqEnVK"
      },
      "source": [
        "Spliting dataset into test and train data sets."
      ]
    },
    {
      "cell_type": "code",
      "metadata": {
        "id": "vwJt3e6dkHdw"
      },
      "source": [
        "X_train, X_test, y_train, y_test = train_test_split(df['full_text'], df['label'], test_size=0.2, random_state=144)"
      ],
      "execution_count": null,
      "outputs": []
    },
    {
      "cell_type": "markdown",
      "metadata": {
        "id": "2-aJthBLGztW"
      },
      "source": [
        "#### Simple TF-IDF with Multinomial Naive Bayes classifier\n",
        "Initializing Multinomial Naive Bayes classification model and text feature vector was vectorized using TF-IDF char ngram statistic.\n"
      ]
    },
    {
      "cell_type": "code",
      "metadata": {
        "id": "d2qAXYN7jUOc"
      },
      "source": [
        "model = make_pipeline(TfidfVectorizer(analyzer='word', token_pattern=r'\\w{1,}', ngram_range=(2,4), max_features=5000), MultinomialNB())\n",
        "#model = make_pipeline(TfidfVectorizer(\n",
        "#    sublinear_tf=True,\n",
        "#    strip_accents='unicode',\n",
        "#    analyzer='char',\n",
        "#    #stop_words='english',\n",
        "#    ngram_range=(2, 6),\n",
        "#    max_features=50000), MultinomialNB())\n",
        "\n"
      ],
      "execution_count": null,
      "outputs": []
    },
    {
      "cell_type": "code",
      "metadata": {
        "id": "oU4HGP7alTnC"
      },
      "source": [
        "model.fit(df['full_text'], df['label_id'])\n",
        "labels = model.predict(X_test)"
      ],
      "execution_count": null,
      "outputs": []
    },
    {
      "cell_type": "code",
      "metadata": {
        "colab": {
          "base_uri": "https://localhost:8080/",
          "height": 556
        },
        "id": "WhWx-H8rnNFn",
        "outputId": "7226c3ef-c787-43ed-f4f8-7f9c19b599c1"
      },
      "source": [
        "mat = confusion_matrix(y_test, labels)\n",
        "sns.heatmap(mat.T, square=True, annot=True, fmt='d', cbar=False,\n",
        "            xticklabels=list(d.label_id.unique()), yticklabels=list(d.label_id.unique()))\n",
        "plt.xlabel('true label')\n",
        "plt.ylabel('predicted label');"
      ],
      "execution_count": null,
      "outputs": [
        {
          "output_type": "display_data",
          "data": {
            "image/png": "[encoded data removed]",
            "text/plain": [
              "<Figure size 1080x648 with 1 Axes>"
            ]
          },
          "metadata": {}
        }
      ]
    },
    {
      "cell_type": "code",
      "metadata": {
        "colab": {
          "base_uri": "https://localhost:8080/"
        },
        "id": "JbTQalUovkdh",
        "outputId": "91500ab1-1bd0-4ec0-aba1-4c6e22895a38"
      },
      "source": [
        "# Printing the Overall Accuracy of the model\n",
        "F1_Score=metrics.f1_score(y_test, labels, average='weighted')\n",
        "print('Accuracy of the model on Testing Sample Data:', round(F1_Score,2))"
      ],
      "execution_count": null,
      "outputs": [
        {
          "output_type": "stream",
          "name": "stdout",
          "text": [
            "Accuracy of the model on Testing Sample Data: 0.93\n"
          ]
        }
      ]
    },
    {
      "cell_type": "markdown",
      "metadata": {
        "id": "OX-IPyggJGkU"
      },
      "source": [
        "Predicting test data that was given in task.\n",
        "Of course we will apply the same cleaning process to the test data before classification"
      ]
    },
    {
      "cell_type": "code",
      "metadata": {
        "id": "QFQJ9T4EJsrN"
      },
      "source": [
        "# tokenize and clean tags\n",
        "test['breadcrumbs_t'] = test['breadcrumbs_t'].apply(clean_special_char)\n",
        "test['description_t_short'] = test['description_t_short'].apply(clean_special_char)\n",
        "test['name_t'] = test['name_t'].apply(clean_special_char)\n",
        "test['retailer'] = test['retailer'].apply(clean_special_char)\n",
        "\n",
        "test['full_text'] = test['breadcrumbs_t'] + test['description_t_short'] + test['name_t'] + test['retailer']"
      ],
      "execution_count": null,
      "outputs": []
    },
    {
      "cell_type": "code",
      "metadata": {
        "id": "WDG5_8jPMMTS"
      },
      "source": [
        "test['label_id'] = model.predict(test['full_text'])\n",
        "results = test[['sku_id', 'label_id']]"
      ],
      "execution_count": null,
      "outputs": []
    },
    {
      "cell_type": "code",
      "metadata": {
        "id": "8ZvbFcdWN_8P"
      },
      "source": [
        "#char_res = pd.read_csv('/content/drive/MyDrive/***/classification_results.csv')\n",
        "results.to_csv('/content/drive/MyDrive/***/classification_results_retail.csv')"
      ],
      "execution_count": null,
      "outputs": []
    },
    {
      "cell_type": "code",
      "metadata": {
        "id": "4ujo1HWfVWoi"
      },
      "source": [
        "char_res.tail()"
      ],
      "execution_count": null,
      "outputs": []
    },
    {
      "cell_type": "code",
      "metadata": {
        "id": "z7K4najjVYJo"
      },
      "source": [
        "results.tail()"
      ],
      "execution_count": null,
      "outputs": []
    },
    {
      "cell_type": "markdown",
      "metadata": {
        "id": "EMz-lRKAXjL8"
      },
      "source": [
        "In this project just simple feature vector was produced. \n",
        "\n",
        "Retailers could be taken into account, as we can see they differ between classes, especialy between similar classes (men and women fragnaces)"
      ]
    },
    {
      "cell_type": "code",
      "metadata": {
        "id": "wWfSaguiVqww"
      },
      "source": [
        "retailers_1 = d[d.label_id==6].retailer.unique() # flavored yoghurt\n",
        "retailers_1"
      ],
      "execution_count": null,
      "outputs": []
    },
    {
      "cell_type": "code",
      "metadata": {
        "id": "PQVOJxtiWGgg"
      },
      "source": [
        "retailers_2 = d[d.label_id==7].retailer.unique() # plain yoghurt\n",
        "retailers_2"
      ],
      "execution_count": null,
      "outputs": []
    },
    {
      "cell_type": "code",
      "metadata": {
        "id": "FVOF95NUW0QQ"
      },
      "source": [
        "difs = list(set(retailers_1) - set(retailers_2))\n",
        "difs"
      ],
      "execution_count": null,
      "outputs": []
    },
    {
      "cell_type": "markdown",
      "metadata": {
        "id": "FA8WDhdNjsOY"
      },
      "source": [
        "### Test on unbalanced dataset that have labels"
      ]
    },
    {
      "cell_type": "code",
      "metadata": {
        "id": "6gYCnyzIjPeG"
      },
      "source": [
        "unbalanced_df = pd.concat([balanced_df, d]).drop_duplicates(keep=False)"
      ],
      "execution_count": null,
      "outputs": []
    },
    {
      "cell_type": "code",
      "metadata": {
        "id": "AdMfS5WfjVo7"
      },
      "source": [
        "# tokenize and clean tags\n",
        "unbalanced_df['breadcrumbs_t'] = unbalanced_df['breadcrumbs_t'].apply(clean_special_char)\n",
        "unbalanced_df['description_t_short'] = unbalanced_df['description_t_short'].apply(clean_special_char)\n",
        "unbalanced_df['name_t'] = unbalanced_df['name_t'].apply(clean_special_char)\n",
        "unbalanced_df['retailer'] = unbalanced_df['retailer'].apply(clean_special_char)\n",
        "\n",
        "unbalanced_df['full_text'] = unbalanced_df['breadcrumbs_t'] + unbalanced_df['description_t_short'] + unbalanced_df['name_t'] + unbalanced_df['retailer']"
      ],
      "execution_count": null,
      "outputs": []
    },
    {
      "cell_type": "code",
      "metadata": {
        "colab": {
          "base_uri": "https://localhost:8080/",
          "height": 574
        },
        "id": "jJn2e9XZjyIN",
        "outputId": "9a9283ba-e638-47ee-e5d5-9f37be0b93bd"
      },
      "source": [
        "#model.fit(unbalanced_df['full_text'], unbalanced_df['label_id'])\n",
        "labels = model.predict(unbalanced_df['full_text'])\n",
        "\n",
        "mat = confusion_matrix(unbalanced_df['label_id'], labels)\n",
        "sns.heatmap(mat.T, square=True, annot=True, fmt='d', cbar=False,\n",
        "            xticklabels=list(d.label_id.unique()), yticklabels=list(d.label_id.unique()))\n",
        "plt.xlabel('true label')\n",
        "plt.ylabel('predicted label')\n",
        "\n",
        "\n",
        "# Printing the Overall Accuracy of the model\n",
        "F1_Score=metrics.f1_score(unbalanced_df['label_id'], labels, average='weighted')\n",
        "print('Accuracy of the model on Testing Sample Data:', round(F1_Score,2))"
      ],
      "execution_count": null,
      "outputs": [
        {
          "output_type": "stream",
          "name": "stdout",
          "text": [
            "Accuracy of the model on Testing Sample Data: 0.72\n"
          ]
        },
        {
          "output_type": "display_data",
          "data": {
            "image/png": "[encoded data removed]",
            "text/plain": [
              "<Figure size 1080x648 with 1 Axes>"
            ]
          },
          "metadata": {}
        }
      ]
    },
    {
      "cell_type": "markdown",
      "metadata": {
        "id": "KevMIjh3X-5V"
      },
      "source": [
        "* LDA embeddings\n",
        "* Weight title, description and ect.\n",
        "* Define keywords in each class\n",
        "* pretrained doc2vec or word2vec for embedding and keywords similarity \n",
        "* ...\n",
        "* description lengths analysis\n",
        "* simple regex for pattern searching (class name)\n",
        "* analyse products by countries\n",
        "* "
      ]
    },
    {
      "cell_type": "markdown",
      "metadata": {
        "id": "7PsP8HtL8F3v"
      },
      "source": [
        "## TSNE"
      ]
    },
    {
      "cell_type": "code",
      "metadata": {
        "id": "R2RNZqaauPH_"
      },
      "source": [
        "from sklearn.preprocessing import LabelEncoder\n",
        "from sklearn import preprocessing\n",
        "from sklearn.manifold import TSNE\n",
        "\n",
        "\n",
        "vectorizer = TfidfVectorizer(analyzer='word', token_pattern=r'\\w{1,}', ngram_range=(2,4), max_features=300)"
      ],
      "execution_count": null,
      "outputs": []
    },
    {
      "cell_type": "code",
      "metadata": {
        "colab": {
          "base_uri": "https://localhost:8080/"
        },
        "id": "6L1MKJ-v80zQ",
        "outputId": "33431758-9aa1-44fe-c563-f7c89321b5a4"
      },
      "source": [
        "tst = vectorizer.fit_transform(df['full_text']).toarray()\n",
        "tst"
      ],
      "execution_count": null,
      "outputs": [
        {
          "output_type": "execute_result",
          "data": {
            "text/plain": [
              "array([[0., 0., 0., ..., 0., 0., 0.],\n",
              "       [0., 0., 0., ..., 0., 0., 0.],\n",
              "       [0., 0., 0., ..., 0., 0., 0.],\n",
              "       ...,\n",
              "       [0., 0., 0., ..., 0., 0., 0.],\n",
              "       [0., 0., 0., ..., 0., 0., 0.],\n",
              "       [0., 0., 0., ..., 0., 0., 0.]])"
            ]
          },
          "metadata": {},
          "execution_count": 85
        }
      ]
    },
    {
      "cell_type": "code",
      "metadata": {
        "id": "RPI178Pb8jND"
      },
      "source": [
        "X = preprocessing.normalize(tst)\n",
        "y = df['label']\n",
        "le = LabelEncoder()\n",
        "y = le.fit_transform(y)\n"
      ],
      "execution_count": null,
      "outputs": []
    },
    {
      "cell_type": "code",
      "metadata": {
        "colab": {
          "base_uri": "https://localhost:8080/",
          "height": 1000
        },
        "id": "iRyuIc8q9eHd",
        "outputId": "3e5a7b1c-b314-4fe5-b325-79b2109a2dad"
      },
      "source": [
        "tsne = TSNE(n_components=2, random_state=144)\n",
        "target_ids = range(len(le.classes_))\n",
        "\n",
        "X_2d = tsne.fit_transform(X)\n",
        "\n",
        "plt.figure(figsize=(20, 20))\n",
        "for i, label in zip(target_ids, le.classes_):\n",
        "    plt.scatter(X_2d[y == i, 0], X_2d[y == i, 1], c=np.random.rand(3,), label=label)\n",
        "plt.legend()\n",
        "plt.show()"
      ],
      "execution_count": null,
      "outputs": [
        {
          "output_type": "stream",
          "name": "stderr",
          "text": [
            "*c* argument looks like a single numeric RGB or RGBA sequence, which should be avoided as value-mapping will have precedence in case its length matches with *x* & *y*.  Please use the *color* keyword-argument or provide a 2-D array with a single row if you intend to specify the same RGB or RGBA value for all points.\n",
            "*c* argument looks like a single numeric RGB or RGBA sequence, which should be avoided as value-mapping will have precedence in case its length matches with *x* & *y*.  Please use the *color* keyword-argument or provide a 2-D array with a single row if you intend to specify the same RGB or RGBA value for all points.\n",
            "*c* argument looks like a single numeric RGB or RGBA sequence, which should be avoided as value-mapping will have precedence in case its length matches with *x* & *y*.  Please use the *color* keyword-argument or provide a 2-D array with a single row if you intend to specify the same RGB or RGBA value for all points.\n",
            "*c* argument looks like a single numeric RGB or RGBA sequence, which should be avoided as value-mapping will have precedence in case its length matches with *x* & *y*.  Please use the *color* keyword-argument or provide a 2-D array with a single row if you intend to specify the same RGB or RGBA value for all points.\n",
            "*c* argument looks like a single numeric RGB or RGBA sequence, which should be avoided as value-mapping will have precedence in case its length matches with *x* & *y*.  Please use the *color* keyword-argument or provide a 2-D array with a single row if you intend to specify the same RGB or RGBA value for all points.\n",
            "*c* argument looks like a single numeric RGB or RGBA sequence, which should be avoided as value-mapping will have precedence in case its length matches with *x* & *y*.  Please use the *color* keyword-argument or provide a 2-D array with a single row if you intend to specify the same RGB or RGBA value for all points.\n",
            "*c* argument looks like a single numeric RGB or RGBA sequence, which should be avoided as value-mapping will have precedence in case its length matches with *x* & *y*.  Please use the *color* keyword-argument or provide a 2-D array with a single row if you intend to specify the same RGB or RGBA value for all points.\n"
          ]
        },
        {
          "output_type": "display_data",
          "data": {
            "image/png": "[encoded data removed]",
            "text/plain": [
              "<Figure size 1440x1440 with 1 Axes>"
            ]
          },
          "metadata": {}
        }
      ]
    },
    {
      "cell_type": "markdown",
      "metadata": {
        "id": "ROXqv78EVSI6"
      },
      "source": [
        "### BERT classifier"
      ]
    },
    {
      "cell_type": "code",
      "metadata": {
        "colab": {
          "base_uri": "https://localhost:8080/"
        },
        "id": "LGz3GP5-Vl45",
        "outputId": "39f34baa-c879-4ef2-e868-cdf501da0d81"
      },
      "source": [
        "!pip install transformers"
      ],
      "execution_count": null,
      "outputs": [
        {
          "output_type": "stream",
          "name": "stdout",
          "text": [
            "Collecting transformers\n",
            "  Downloading transformers-4.10.2-py3-none-any.whl (2.8 MB)\n",
            "\u001b[K     |████████████████████████████████| 2.8 MB 5.2 MB/s \n",
            "\u001b[?25hRequirement already satisfied: regex!=2019.12.17 in /usr/local/lib/python3.7/dist-packages (from transformers) (2019.12.20)\n",
            "Collecting sacremoses\n",
            "  Downloading sacremoses-0.0.45-py3-none-any.whl (895 kB)\n",
            "\u001b[K     |████████████████████████████████| 895 kB 34.3 MB/s \n",
            "\u001b[?25hRequirement already satisfied: packaging in /usr/local/lib/python3.7/dist-packages (from transformers) (21.0)\n",
            "Collecting tokenizers<0.11,>=0.10.1\n",
            "  Downloading tokenizers-0.10.3-cp37-cp37m-manylinux_2_5_x86_64.manylinux1_x86_64.manylinux_2_12_x86_64.manylinux2010_x86_64.whl (3.3 MB)\n",
            "\u001b[K     |████████████████████████████████| 3.3 MB 17.6 MB/s \n",
            "\u001b[?25hRequirement already satisfied: tqdm>=4.27 in /usr/local/lib/python3.7/dist-packages (from transformers) (4.62.0)\n",
            "Requirement already satisfied: importlib-metadata in /usr/local/lib/python3.7/dist-packages (from transformers) (4.6.4)\n",
            "Collecting huggingface-hub>=0.0.12\n",
            "  Downloading huggingface_hub-0.0.17-py3-none-any.whl (52 kB)\n",
            "\u001b[K     |████████████████████████████████| 52 kB 1.1 MB/s \n",
            "\u001b[?25hCollecting pyyaml>=5.1\n",
            "  Downloading PyYAML-5.4.1-cp37-cp37m-manylinux1_x86_64.whl (636 kB)\n",
            "\u001b[K     |████████████████████████████████| 636 kB 26.4 MB/s \n",
            "\u001b[?25hRequirement already satisfied: numpy>=1.17 in /usr/local/lib/python3.7/dist-packages (from transformers) (1.19.5)\n",
            "Requirement already satisfied: filelock in /usr/local/lib/python3.7/dist-packages (from transformers) (3.0.12)\n",
            "Requirement already satisfied: requests in /usr/local/lib/python3.7/dist-packages (from transformers) (2.23.0)\n",
            "Requirement already satisfied: typing-extensions in /usr/local/lib/python3.7/dist-packages (from huggingface-hub>=0.0.12->transformers) (3.7.4.3)\n",
            "Requirement already satisfied: pyparsing>=2.0.2 in /usr/local/lib/python3.7/dist-packages (from packaging->transformers) (2.4.7)\n",
            "Requirement already satisfied: zipp>=0.5 in /usr/local/lib/python3.7/dist-packages (from importlib-metadata->transformers) (3.5.0)\n",
            "Requirement already satisfied: idna<3,>=2.5 in /usr/local/lib/python3.7/dist-packages (from requests->transformers) (2.10)\n",
            "Requirement already satisfied: chardet<4,>=3.0.2 in /usr/local/lib/python3.7/dist-packages (from requests->transformers) (3.0.4)\n",
            "Requirement already satisfied: certifi>=2017.4.17 in /usr/local/lib/python3.7/dist-packages (from requests->transformers) (2021.5.30)\n",
            "Requirement already satisfied: urllib3!=1.25.0,!=1.25.1,<1.26,>=1.21.1 in /usr/local/lib/python3.7/dist-packages (from requests->transformers) (1.24.3)\n",
            "Requirement already satisfied: click in /usr/local/lib/python3.7/dist-packages (from sacremoses->transformers) (7.1.2)\n",
            "Requirement already satisfied: six in /usr/local/lib/python3.7/dist-packages (from sacremoses->transformers) (1.15.0)\n",
            "Requirement already satisfied: joblib in /usr/local/lib/python3.7/dist-packages (from sacremoses->transformers) (1.0.1)\n",
            "Installing collected packages: tokenizers, sacremoses, pyyaml, huggingface-hub, transformers\n",
            "  Attempting uninstall: pyyaml\n",
            "    Found existing installation: PyYAML 3.13\n",
            "    Uninstalling PyYAML-3.13:\n",
            "      Successfully uninstalled PyYAML-3.13\n",
            "Successfully installed huggingface-hub-0.0.17 pyyaml-5.4.1 sacremoses-0.0.45 tokenizers-0.10.3 transformers-4.10.2\n"
          ]
        }
      ]
    },
    {
      "cell_type": "code",
      "metadata": {
        "id": "O7kBWt3V-SCY"
      },
      "source": [
        "from sklearn.preprocessing import LabelBinarizer, LabelEncoder\n",
        "from sklearn.metrics import confusion_matrix, accuracy_score\n",
        "\n",
        "import tensorflow as tf\n",
        "from tensorflow import keras \n",
        "from tensorflow.keras.layers import Dense, Input\n",
        "from tensorflow.keras.optimizers import Adam\n",
        "from keras.models import Model\n",
        "from tensorflow.keras import utils as np_utils\n",
        "from keras.utils.np_utils import to_categorical\n",
        "\n",
        "import transformers\n",
        "from transformers import AutoTokenizer,TFDistilBertModel, DistilBertConfig\n",
        "from transformers import TFAutoModel\n"
      ],
      "execution_count": null,
      "outputs": []
    },
    {
      "cell_type": "code",
      "metadata": {
        "colab": {
          "base_uri": "https://localhost:8080/",
          "height": 538
        },
        "id": "IXNntm_cdvFe",
        "outputId": "f17f4fb9-54ee-4bf7-febf-490ae0233da3"
      },
      "source": [
        "#d['description_t_short'] = d['description_t_short'].apply(clean_special_char)\n",
        "# tokenize and clean tags\n",
        "d['breadcrumbs_t'] = d['breadcrumbs_t'].apply(clean_special_char)\n",
        "d['description_t_short'] = d['description_t_short'].apply(clean_special_char)\n",
        "d['name_t'] = d['name_t'].apply(clean_special_char)\n",
        "d['retailer'] = d['retailer'].apply(clean_special_char)\n",
        "\n",
        "d['full_text'] = d['breadcrumbs_t'] + d['description_t_short'] + d['name_t'] + d['retailer']\n",
        "\n",
        "d.head()"
      ],
      "execution_count": null,
      "outputs": [
        {
          "output_type": "execute_result",
          "data": {
            "text/html": [
              "<div>\n",
              "<style scoped>\n",
              "    .dataframe tbody tr th:only-of-type {\n",
              "        vertical-align: middle;\n",
              "    }\n",
              "\n",
              "    .dataframe tbody tr th {\n",
              "        vertical-align: top;\n",
              "    }\n",
              "\n",
              "    .dataframe thead th {\n",
              "        text-align: right;\n",
              "    }\n",
              "</style>\n",
              "<table border=\"1\" class=\"dataframe\">\n",
              "  <thead>\n",
              "    <tr style=\"text-align: right;\">\n",
              "      <th></th>\n",
              "      <th>sku_id</th>\n",
              "      <th>country_name</th>\n",
              "      <th>retailer</th>\n",
              "      <th>breadcrumbs</th>\n",
              "      <th>breadcrumbs_t</th>\n",
              "      <th>name</th>\n",
              "      <th>name_t</th>\n",
              "      <th>pack_size</th>\n",
              "      <th>pack_size_t</th>\n",
              "      <th>description_short</th>\n",
              "      <th>description_t_short</th>\n",
              "      <th>resnet50_labels_005</th>\n",
              "      <th>resnet50_labels_06</th>\n",
              "      <th>price</th>\n",
              "      <th>label</th>\n",
              "      <th>label_id</th>\n",
              "      <th>full_text</th>\n",
              "    </tr>\n",
              "  </thead>\n",
              "  <tbody>\n",
              "    <tr>\n",
              "      <th>0</th>\n",
              "      <td>22790</td>\n",
              "      <td>USA</td>\n",
              "      <td>amazon</td>\n",
              "      <td>[\"\"Beauty &amp; Personal Care\"\",\"\"Tools &amp; Accessor...</td>\n",
              "      <td>beauty personal care tools accessories cotton ...</td>\n",
              "      <td>Q-tips Cotton Swabs, 170 ct</td>\n",
              "      <td>tips cotton swabs</td>\n",
              "      <td>NaN</td>\n",
              "      <td>NaN</td>\n",
              "      <td>q-tips cotton swabs have a wide variety of use...</td>\n",
              "      <td>tips cotton swabs wide variety uses including ...</td>\n",
              "      <td>Band_Aid~can_opener~screwdriver</td>\n",
              "      <td>NaN</td>\n",
              "      <td>2.01000</td>\n",
              "      <td>OUT OF SCOPE</td>\n",
              "      <td>1</td>\n",
              "      <td>beauty personal care tools accessories cotton ...</td>\n",
              "    </tr>\n",
              "    <tr>\n",
              "      <th>1</th>\n",
              "      <td>60540</td>\n",
              "      <td>USA</td>\n",
              "      <td>chewy</td>\n",
              "      <td>[\"\"Dog\"\",\"\"Bowls &amp; Feeders\"\",\"\"Fountains &amp; Fil...</td>\n",
              "      <td>dog bowls feeders fountains filters</td>\n",
              "      <td>Petmate Fresh Flow Replacement Filters, 6 count</td>\n",
              "      <td>petmate fresh flow replacement filters count</td>\n",
              "      <td>8.3                         x 0.6             ...</td>\n",
              "      <td>8.3                         x 0.6             ...</td>\n",
              "      <td>description the petmate deluxe fresh flow repl...</td>\n",
              "      <td>description petmate deluxe fresh flow replacem...</td>\n",
              "      <td>Band_Aid~web_site</td>\n",
              "      <td>NaN</td>\n",
              "      <td>7.00000</td>\n",
              "      <td>OUT OF SCOPE</td>\n",
              "      <td>1</td>\n",
              "      <td>dog bowls feeders fountains filtersdescription...</td>\n",
              "    </tr>\n",
              "    <tr>\n",
              "      <th>2</th>\n",
              "      <td>96170</td>\n",
              "      <td>United Kingdom</td>\n",
              "      <td>asda</td>\n",
              "      <td>[\"\"Free From\"\",\"\"Free From Chilled &amp; Meat\"\",\"\"...</td>\n",
              "      <td>free from free from chilled meat spreads chees...</td>\n",
              "      <td>ASDA Free From Plain Soya Yogurt</td>\n",
              "      <td>asda free from plain soya yogurt</td>\n",
              "      <td>500g</td>\n",
              "      <td>500g</td>\n",
              "      <td>net content 500 grams ℮ lifestyle suitable for...</td>\n",
              "      <td>net content grams lifestyle suitable vegetaria...</td>\n",
              "      <td>lotion~sunscreen</td>\n",
              "      <td>sunscreen</td>\n",
              "      <td>1.26185</td>\n",
              "      <td>Plain Yoghurt</td>\n",
              "      <td>7</td>\n",
              "      <td>free from free from chilled meat spreads chees...</td>\n",
              "    </tr>\n",
              "    <tr>\n",
              "      <th>3</th>\n",
              "      <td>116045</td>\n",
              "      <td>USA</td>\n",
              "      <td>jet com</td>\n",
              "      <td>[\"\"Pantry &amp; Household\"\",\"\"Household Supplies\"\"...</td>\n",
              "      <td>pantry household household supplies insect pes...</td>\n",
              "      <td>Off! Deep Woods Dry Aerosol, 4 Oz</td>\n",
              "      <td>off deep woods dry aerosol</td>\n",
              "      <td>12</td>\n",
              "      <td>12</td>\n",
              "      <td>description specs includes 25% deet formula. p...</td>\n",
              "      <td>description specs includes deet formula provid...</td>\n",
              "      <td>can_opener~face_powder~oil_filter~tennis_ball</td>\n",
              "      <td>NaN</td>\n",
              "      <td>6.21000</td>\n",
              "      <td>OUT OF SCOPE</td>\n",
              "      <td>1</td>\n",
              "      <td>pantry household household supplies insect pes...</td>\n",
              "    </tr>\n",
              "    <tr>\n",
              "      <th>4</th>\n",
              "      <td>120858</td>\n",
              "      <td>USA</td>\n",
              "      <td>cvs</td>\n",
              "      <td>[\"\"Vitamins\"\",\"\"Herbals\"\"]</td>\n",
              "      <td>vitamins herbals</td>\n",
              "      <td>Nature's Answer Damiana Leaf Vegetarian Capsul...</td>\n",
              "      <td>nature answer damiana leaf vegetarian capsules</td>\n",
              "      <td>90 CT</td>\n",
              "      <td>90 CT</td>\n",
              "      <td>nature's answer capsules feature the highest q...</td>\n",
              "      <td>nature answer capsules feature highest quality...</td>\n",
              "      <td>face_powder~pill_bottle~sunscreen</td>\n",
              "      <td>pill_bottle</td>\n",
              "      <td>8.49000</td>\n",
              "      <td>OUT OF SCOPE</td>\n",
              "      <td>1</td>\n",
              "      <td>vitamins herbalsnature answer capsules feature...</td>\n",
              "    </tr>\n",
              "  </tbody>\n",
              "</table>\n",
              "</div>"
            ],
            "text/plain": [
              "   sku_id  ...                                          full_text\n",
              "0   22790  ...  beauty personal care tools accessories cotton ...\n",
              "1   60540  ...  dog bowls feeders fountains filtersdescription...\n",
              "2   96170  ...  free from free from chilled meat spreads chees...\n",
              "3  116045  ...  pantry household household supplies insect pes...\n",
              "4  120858  ...  vitamins herbalsnature answer capsules feature...\n",
              "\n",
              "[5 rows x 17 columns]"
            ]
          },
          "metadata": {},
          "execution_count": 281
        }
      ]
    },
    {
      "cell_type": "code",
      "metadata": {
        "colab": {
          "base_uri": "https://localhost:8080/",
          "height": 557
        },
        "id": "29Aq_-COhOns",
        "outputId": "1c154cda-d7b4-4372-9918-af2186f139e7"
      },
      "source": [
        "d.full_text.str.split().str.len().hist()"
      ],
      "execution_count": null,
      "outputs": [
        {
          "output_type": "execute_result",
          "data": {
            "text/plain": [
              "<matplotlib.axes._subplots.AxesSubplot at 0x7f779ca31110>"
            ]
          },
          "metadata": {},
          "execution_count": 283
        },
        {
          "output_type": "display_data",
          "data": {
            "image/png": "[encoded data removed]",
            "text/plain": [
              "<Figure size 1080x648 with 1 Axes>"
            ]
          },
          "metadata": {}
        }
      ]
    },
    {
      "cell_type": "code",
      "metadata": {
        "id": "nl3uh7XedEBX"
      },
      "source": [
        "#X_train, X_test, y_train, y_test = train_test_split(d['description_t_short'], d['label_id'], test_size=0.2, random_state=144)\n",
        "X_train, X_test, y_train, y_test = train_test_split(d['full_text'], d['label_id'], test_size=0.2, random_state=144)"
      ],
      "execution_count": null,
      "outputs": []
    },
    {
      "cell_type": "code",
      "metadata": {
        "id": "RqBzk86yVvJV"
      },
      "source": [
        "encoder = LabelEncoder()\n",
        "encoder.fit(y_train)\n",
        "\n",
        "y_train = encoder.transform(y_train)\n",
        "y_test = encoder.transform(y_test)\n",
        "\n",
        "num_classes = np.max(y_train) + 1\n",
        "y_train = tf.keras.utils.to_categorical(y_train, num_classes)\n",
        "y_test = tf.keras.utils.to_categorical(y_test, num_classes)"
      ],
      "execution_count": null,
      "outputs": []
    },
    {
      "cell_type": "code",
      "metadata": {
        "colab": {
          "base_uri": "https://localhost:8080/"
        },
        "id": "zIS7QjBRZ-kk",
        "outputId": "c8102dfa-310a-44e4-8cb0-858e502c86f4"
      },
      "source": [
        "(y_train.shape, y_test.shape)"
      ],
      "execution_count": null,
      "outputs": [
        {
          "output_type": "execute_result",
          "data": {
            "text/plain": [
              "((3186, 7), (797, 7))"
            ]
          },
          "metadata": {},
          "execution_count": 286
        }
      ]
    },
    {
      "cell_type": "code",
      "metadata": {
        "id": "V3K4MjM2WDxN"
      },
      "source": [
        "# Creating tokenizer\n",
        "tokenizer = AutoTokenizer.from_pretrained('distilbert-base-uncased')"
      ],
      "execution_count": null,
      "outputs": []
    },
    {
      "cell_type": "code",
      "metadata": {
        "colab": {
          "base_uri": "https://localhost:8080/"
        },
        "id": "s2sNj1g0WF8w",
        "outputId": "052c729b-e921-4c18-bda2-8da0acaf90eb"
      },
      "source": [
        "bert = TFAutoModel.from_pretrained('distilbert-base-uncased')"
      ],
      "execution_count": null,
      "outputs": [
        {
          "output_type": "stream",
          "name": "stderr",
          "text": [
            "Some layers from the model checkpoint at distilbert-base-uncased were not used when initializing TFDistilBertModel: ['vocab_projector', 'activation_13', 'vocab_transform', 'vocab_layer_norm']\n",
            "- This IS expected if you are initializing TFDistilBertModel from the checkpoint of a model trained on another task or with another architecture (e.g. initializing a BertForSequenceClassification model from a BertForPreTraining model).\n",
            "- This IS NOT expected if you are initializing TFDistilBertModel from the checkpoint of a model that you expect to be exactly identical (initializing a BertForSequenceClassification model from a BertForSequenceClassification model).\n",
            "All the layers of TFDistilBertModel were initialized from the model checkpoint at distilbert-base-uncased.\n",
            "If your task is similar to the task the model of the checkpoint was trained on, you can already use TFDistilBertModel for predictions without further training.\n"
          ]
        }
      ]
    },
    {
      "cell_type": "code",
      "metadata": {
        "id": "nS6Uh_oQWIDu"
      },
      "source": [
        "for layer in bert.layers:\n",
        "      layer.trainable = True"
      ],
      "execution_count": null,
      "outputs": []
    },
    {
      "cell_type": "code",
      "metadata": {
        "id": "5Riw7kkJWK3O"
      },
      "source": [
        "# Tokenization of the data\n",
        "def text_encode(text, tokenizer, max_len=100):\n",
        "    tokens = text.apply(lambda x: tokenizer(x,return_tensors='tf', \n",
        "                                            truncation=True,\n",
        "                                            padding='max_length',\n",
        "                                            max_length=max_len, \n",
        "                                            add_special_tokens=True))\n",
        "    input_ids= []\n",
        "    attention_mask=[]\n",
        "    for item in tokens:\n",
        "        input_ids.append(item['input_ids'])\n",
        "        attention_mask.append(item['attention_mask'])\n",
        "    input_ids, attention_mask=np.squeeze(input_ids), np.squeeze(attention_mask)\n",
        "\n",
        "    return [input_ids,attention_mask]"
      ],
      "execution_count": null,
      "outputs": []
    },
    {
      "cell_type": "code",
      "metadata": {
        "id": "iE-ygZb1WOZ2"
      },
      "source": [
        "X_train_input_ids, X_train_attention_mask = text_encode(X_train, tokenizer, max_len=100)\n",
        "X_test_input_ids, X_test_attention_mask = text_encode(X_test, tokenizer, max_len=100)"
      ],
      "execution_count": null,
      "outputs": []
    },
    {
      "cell_type": "markdown",
      "metadata": {
        "id": "TavZ0-gPWRaZ"
      },
      "source": [
        "## Build the model"
      ]
    },
    {
      "cell_type": "code",
      "metadata": {
        "id": "rQhHYnD6WPzt"
      },
      "source": [
        "# model creation\n",
        "def build_model(bert_model, maxlen=100):\n",
        "   input_ids = tf.keras.Input(shape=(maxlen,),dtype=tf.int32, name='input_ids')\n",
        "   attention_mask = tf.keras.Input(shape=(maxlen,),dtype=tf.int32, name='attention_mask')\n",
        "\n",
        "   sequence_output = bert_model(input_ids,attention_mask=attention_mask)\n",
        "   output = sequence_output[0][:,0,:]\n",
        "   output = tf.keras.layers.Dense(32,activation='relu')(output)\n",
        "   output = tf.keras.layers.Dropout(0.2)(output)\n",
        "   output = tf.keras.layers.Dense(7,activation='softmax')(output)\n",
        "\n",
        "   model = tf.keras.models.Model(inputs = [input_ids,attention_mask], outputs = [output])\n",
        "   model.compile(Adam(lr=1e-5), loss='categorical_crossentropy', metrics=['accuracy'])\n",
        "\n",
        "   return model"
      ],
      "execution_count": null,
      "outputs": []
    },
    {
      "cell_type": "code",
      "metadata": {
        "colab": {
          "base_uri": "https://localhost:8080/"
        },
        "id": "nTMtpQ5KWTxm",
        "outputId": "6143d1e5-01ec-411e-a0ff-418efc073918"
      },
      "source": [
        "model = build_model(bert, maxlen=100)"
      ],
      "execution_count": null,
      "outputs": [
        {
          "output_type": "stream",
          "name": "stdout",
          "text": [
            "WARNING:tensorflow:The parameters `output_attentions`, `output_hidden_states` and `use_cache` cannot be updated when calling a model.They have to be set to True/False in the config object (i.e.: `config=XConfig.from_pretrained('name', output_attentions=True)`).\n",
            "WARNING:tensorflow:The parameter `return_dict` cannot be set in graph mode and will always be set to `True`.\n"
          ]
        }
      ]
    },
    {
      "cell_type": "code",
      "metadata": {
        "colab": {
          "base_uri": "https://localhost:8080/"
        },
        "id": "c74iYHhXWVoe",
        "outputId": "fc3a48e7-8b76-4305-c9f7-d7346a657f74"
      },
      "source": [
        "history = model.fit(\n",
        "    [X_train_input_ids, X_train_attention_mask],\n",
        "    y_train,\n",
        "    batch_size=32,\n",
        "    validation_data=([X_test_input_ids, X_test_attention_mask], y_test),\n",
        "    epochs=15\n",
        ")"
      ],
      "execution_count": null,
      "outputs": [
        {
          "output_type": "stream",
          "name": "stdout",
          "text": [
            "Epoch 1/15\n",
            "WARNING:tensorflow:The parameters `output_attentions`, `output_hidden_states` and `use_cache` cannot be updated when calling a model.They have to be set to True/False in the config object (i.e.: `config=XConfig.from_pretrained('name', output_attentions=True)`).\n",
            "WARNING:tensorflow:The parameter `return_dict` cannot be set in graph mode and will always be set to `True`.\n",
            "WARNING:tensorflow:The parameters `output_attentions`, `output_hidden_states` and `use_cache` cannot be updated when calling a model.They have to be set to True/False in the config object (i.e.: `config=XConfig.from_pretrained('name', output_attentions=True)`).\n",
            "WARNING:tensorflow:The parameter `return_dict` cannot be set in graph mode and will always be set to `True`.\n",
            "100/100 [==============================] - ETA: 0s - loss: 0.7175 - accuracy: 0.8258WARNING:tensorflow:The parameters `output_attentions`, `output_hidden_states` and `use_cache` cannot be updated when calling a model.They have to be set to True/False in the config object (i.e.: `config=XConfig.from_pretrained('name', output_attentions=True)`).\n",
            "WARNING:tensorflow:The parameter `return_dict` cannot be set in graph mode and will always be set to `True`.\n",
            "100/100 [==============================] - 80s 638ms/step - loss: 0.7175 - accuracy: 0.8258 - val_loss: 0.4025 - val_accuracy: 0.8444\n",
            "Epoch 2/15\n",
            "100/100 [==============================] - 62s 617ms/step - loss: 0.3144 - accuracy: 0.8967 - val_loss: 0.2471 - val_accuracy: 0.9172\n",
            "Epoch 3/15\n",
            "100/100 [==============================] - 62s 616ms/step - loss: 0.2022 - accuracy: 0.9338 - val_loss: 0.1872 - val_accuracy: 0.9423\n",
            "Epoch 4/15\n",
            "100/100 [==============================] - 62s 616ms/step - loss: 0.1510 - accuracy: 0.9488 - val_loss: 0.1981 - val_accuracy: 0.9473\n",
            "Epoch 5/15\n",
            "100/100 [==============================] - 62s 616ms/step - loss: 0.1215 - accuracy: 0.9576 - val_loss: 0.1973 - val_accuracy: 0.9448\n",
            "Epoch 6/15\n",
            "100/100 [==============================] - 62s 616ms/step - loss: 0.0876 - accuracy: 0.9718 - val_loss: 0.1933 - val_accuracy: 0.9460\n",
            "Epoch 7/15\n",
            "100/100 [==============================] - 61s 615ms/step - loss: 0.0794 - accuracy: 0.9711 - val_loss: 0.1934 - val_accuracy: 0.9523\n",
            "Epoch 8/15\n",
            "100/100 [==============================] - 62s 616ms/step - loss: 0.0625 - accuracy: 0.9787 - val_loss: 0.1804 - val_accuracy: 0.9573\n",
            "Epoch 9/15\n",
            "100/100 [==============================] - 61s 615ms/step - loss: 0.0626 - accuracy: 0.9771 - val_loss: 0.1944 - val_accuracy: 0.9448\n",
            "Epoch 10/15\n",
            "100/100 [==============================] - 61s 615ms/step - loss: 0.0436 - accuracy: 0.9881 - val_loss: 0.1858 - val_accuracy: 0.9511\n",
            "Epoch 11/15\n",
            "100/100 [==============================] - 62s 616ms/step - loss: 0.0301 - accuracy: 0.9906 - val_loss: 0.2608 - val_accuracy: 0.9423\n",
            "Epoch 12/15\n",
            "100/100 [==============================] - 63s 631ms/step - loss: 0.0229 - accuracy: 0.9953 - val_loss: 0.1951 - val_accuracy: 0.9536\n",
            "Epoch 13/15\n",
            "100/100 [==============================] - 63s 628ms/step - loss: 0.0199 - accuracy: 0.9940 - val_loss: 0.2168 - val_accuracy: 0.9561\n",
            "Epoch 14/15\n",
            "100/100 [==============================] - 62s 624ms/step - loss: 0.0175 - accuracy: 0.9965 - val_loss: 0.2585 - val_accuracy: 0.9523\n",
            "Epoch 15/15\n",
            "100/100 [==============================] - 62s 618ms/step - loss: 0.0140 - accuracy: 0.9975 - val_loss: 0.2556 - val_accuracy: 0.9561\n"
          ]
        }
      ]
    },
    {
      "cell_type": "code",
      "metadata": {
        "id": "b7FmmZYMWZpd"
      },
      "source": [
        "def plot_graphs(history, string):\n",
        "  plt.plot(history.history[string])\n",
        "  plt.plot(history.history['val_'+string])\n",
        "  plt.xlabel(\"Epochs\")\n",
        "  plt.ylabel(string)\n",
        "  plt.legend([string, 'val_'+string])\n",
        "  plt.show()"
      ],
      "execution_count": null,
      "outputs": []
    },
    {
      "cell_type": "markdown",
      "source": [
        "#### Training loss"
      ],
      "metadata": {
        "id": "KS_OdVo74m6e"
      }
    },
    {
      "cell_type": "code",
      "metadata": {
        "colab": {
          "base_uri": "https://localhost:8080/",
          "height": 1000
        },
        "id": "LhyoLwZCWZ6N",
        "outputId": "e1c39c82-9b88-4157-bd48-a69073764ce2"
      },
      "source": [
        "plot_graphs(history, \"accuracy\")\n",
        "plot_graphs(history, \"loss\")"
      ],
      "execution_count": null,
      "outputs": [
        {
          "output_type": "display_data",
          "data": {
            "image/png": "[encoded data removed]",
            "text/plain": [
              "<Figure size 1080x648 with 1 Axes>"
            ]
          },
          "metadata": {}
        },
        {
          "output_type": "display_data",
          "data": {
            "image/png": "[encoded data removed]",
            "text/plain": [
              "<Figure size 1080x648 with 1 Axes>"
            ]
          },
          "metadata": {}
        }
      ]
    },
    {
      "cell_type": "code",
      "metadata": {
        "colab": {
          "base_uri": "https://localhost:8080/"
        },
        "id": "26b7WIfPWcNe",
        "outputId": "a7aa451b-9ecb-4dd3-90d9-f1e5eab3af19"
      },
      "source": [
        "loss, accuracy = model.evaluate([X_test_input_ids, X_test_attention_mask], y_test)\n",
        "print('Test accuracy :', accuracy)"
      ],
      "execution_count": null,
      "outputs": [
        {
          "output_type": "stream",
          "name": "stdout",
          "text": [
            "25/25 [==============================] - 5s 198ms/step - loss: 0.2556 - accuracy: 0.9561\n",
            "Test accuracy : 0.9560853242874146\n"
          ]
        }
      ]
    },
    {
      "cell_type": "markdown",
      "metadata": {
        "id": "8ajZd6IDkV4b"
      },
      "source": [
        "## PREDICT"
      ]
    },
    {
      "cell_type": "code",
      "metadata": {
        "colab": {
          "base_uri": "https://localhost:8080/",
          "height": 452
        },
        "id": "0Sdir18NkYGt",
        "outputId": "6cff7479-01e6-4b7b-900d-a978b04c44ad"
      },
      "source": [
        "# tokenize and clean tags\n",
        "test['breadcrumbs_t'] = test['breadcrumbs_t'].apply(clean_special_char)\n",
        "test['description_t_short'] = test['description_t_short'].apply(clean_special_char)\n",
        "test['name_t'] = test['name_t'].apply(clean_special_char)\n",
        "test['retailer'] = test['retailer'].apply(clean_special_char)\n",
        "\n",
        "test['full_text'] = test['breadcrumbs_t'] + test['description_t_short'] + test['name_t'] + test['retailer']\n",
        "\n",
        "test.head()"
      ],
      "execution_count": null,
      "outputs": [
        {
          "output_type": "execute_result",
          "data": {
            "text/html": [
              "<div>\n",
              "<style scoped>\n",
              "    .dataframe tbody tr th:only-of-type {\n",
              "        vertical-align: middle;\n",
              "    }\n",
              "\n",
              "    .dataframe tbody tr th {\n",
              "        vertical-align: top;\n",
              "    }\n",
              "\n",
              "    .dataframe thead th {\n",
              "        text-align: right;\n",
              "    }\n",
              "</style>\n",
              "<table border=\"1\" class=\"dataframe\">\n",
              "  <thead>\n",
              "    <tr style=\"text-align: right;\">\n",
              "      <th></th>\n",
              "      <th>sku_id</th>\n",
              "      <th>country_name</th>\n",
              "      <th>retailer</th>\n",
              "      <th>breadcrumbs</th>\n",
              "      <th>breadcrumbs_t</th>\n",
              "      <th>name</th>\n",
              "      <th>name_t</th>\n",
              "      <th>pack_size</th>\n",
              "      <th>pack_size_t</th>\n",
              "      <th>description_short</th>\n",
              "      <th>description_t_short</th>\n",
              "      <th>resnet50_labels_005</th>\n",
              "      <th>resnet50_labels_06</th>\n",
              "      <th>price</th>\n",
              "      <th>full_text</th>\n",
              "    </tr>\n",
              "  </thead>\n",
              "  <tbody>\n",
              "    <tr>\n",
              "      <th>0</th>\n",
              "      <td>193691</td>\n",
              "      <td>United Kingdom</td>\n",
              "      <td>amazon</td>\n",
              "      <td>[\"\"Fragrances\"\",\"\"Women\"\",\"\"Perfume Oils\"\"]</td>\n",
              "      <td>fragrances women perfume oils</td>\n",
              "      <td>Dark Velvet Perfume Oil for Women by Al Aneeq ...</td>\n",
              "      <td>dark velvet perfume oil women aneeq</td>\n",
              "      <td>NaN</td>\n",
              "      <td>NaN</td>\n",
              "      <td>fast &amp; free shipping our own unique al aneeq b...</td>\n",
              "      <td>fast free shipping unique aneeq branded perfum...</td>\n",
              "      <td>lotion~sunscreen</td>\n",
              "      <td>NaN</td>\n",
              "      <td>6.246157</td>\n",
              "      <td>fragrances women perfume oilsfast free shippin...</td>\n",
              "    </tr>\n",
              "    <tr>\n",
              "      <th>1</th>\n",
              "      <td>194042</td>\n",
              "      <td>USA</td>\n",
              "      <td>jet com</td>\n",
              "      <td>[\"\"Pantry &amp; Household\"\",\"\"Household Supplies\"\"...</td>\n",
              "      <td>pantry household household supplies laundry ot...</td>\n",
              "      <td>SCOTCH-BRITE 50% STICKIER LARGE SURFACE LINT R...</td>\n",
              "      <td>scotch brite stickier large surface lint rolle...</td>\n",
              "      <td>1 each</td>\n",
              "      <td>1 each</td>\n",
              "      <td>description specs the only lint roller made wi...</td>\n",
              "      <td>description specs lint roller made scotch bran...</td>\n",
              "      <td>carton~microwave~packet~washer</td>\n",
              "      <td>NaN</td>\n",
              "      <td>9.730000</td>\n",
              "      <td>pantry household household supplies laundry ot...</td>\n",
              "    </tr>\n",
              "    <tr>\n",
              "      <th>2</th>\n",
              "      <td>225668</td>\n",
              "      <td>United Kingdom</td>\n",
              "      <td>sainsburys</td>\n",
              "      <td>[\"\"food-cupboard\"\",\"\"baking-powder---raising-a...</td>\n",
              "      <td>food cupboard baking powder raising agents</td>\n",
              "      <td>Sainsbury's Fast Action Dried Yeast Sachets x8...</td>\n",
              "      <td>sainsbury fast action dried yeast sachets</td>\n",
              "      <td>NaN</td>\n",
              "      <td>NaN</td>\n",
              "      <td>information description dried yeast essential ...</td>\n",
              "      <td>information description dried yeast essential ...</td>\n",
              "      <td>envelope~web_site</td>\n",
              "      <td>NaN</td>\n",
              "      <td>1.072572</td>\n",
              "      <td>food cupboard baking powder raising agentsinfo...</td>\n",
              "    </tr>\n",
              "    <tr>\n",
              "      <th>3</th>\n",
              "      <td>351205</td>\n",
              "      <td>USA</td>\n",
              "      <td>amazon</td>\n",
              "      <td>[\"\"Beauty &amp; Personal Care\"\",\"\"Shave &amp; Hair Rem...</td>\n",
              "      <td>beauty personal care shave hair removal men ra...</td>\n",
              "      <td>Feather Styling Razor Disposal Case</td>\n",
              "      <td>feather styling razor disposal case</td>\n",
              "      <td>NaN</td>\n",
              "      <td>NaN</td>\n",
              "      <td>dispose used blades safely the cutting perform...</td>\n",
              "      <td>dispose used blades safely cutting performance...</td>\n",
              "      <td>pencil_sharpener~printer~switch</td>\n",
              "      <td>switch</td>\n",
              "      <td>4.860000</td>\n",
              "      <td>beauty personal care shave hair removal men ra...</td>\n",
              "    </tr>\n",
              "    <tr>\n",
              "      <th>4</th>\n",
              "      <td>374160</td>\n",
              "      <td>USA</td>\n",
              "      <td>amazon</td>\n",
              "      <td>[\"\"Clothing, Shoes &amp; Jewelry\"\",\"\"Men\"\",\"\"Shoes\"\"]</td>\n",
              "      <td>clothing shoes jewelry men shoes</td>\n",
              "      <td>Guide Gear Mens Nylon Snake Boots Waterproof S...</td>\n",
              "      <td>guide gear mens nylon snake boots waterproof s...</td>\n",
              "      <td>NaN</td>\n",
              "      <td>NaN</td>\n",
              "      <td>NaN</td>\n",
              "      <td>nan</td>\n",
              "      <td>Christmas_stocking~cowboy_boot</td>\n",
              "      <td>cowboy_boot</td>\n",
              "      <td>99.990000</td>\n",
              "      <td>clothing shoes jewelry men shoesnanguide gear ...</td>\n",
              "    </tr>\n",
              "  </tbody>\n",
              "</table>\n",
              "</div>"
            ],
            "text/plain": [
              "   sku_id  ...                                          full_text\n",
              "0  193691  ...  fragrances women perfume oilsfast free shippin...\n",
              "1  194042  ...  pantry household household supplies laundry ot...\n",
              "2  225668  ...  food cupboard baking powder raising agentsinfo...\n",
              "3  351205  ...  beauty personal care shave hair removal men ra...\n",
              "4  374160  ...  clothing shoes jewelry men shoesnanguide gear ...\n",
              "\n",
              "[5 rows x 15 columns]"
            ]
          },
          "metadata": {},
          "execution_count": 299
        }
      ]
    },
    {
      "cell_type": "code",
      "metadata": {
        "colab": {
          "base_uri": "https://localhost:8080/",
          "height": 557
        },
        "id": "u317RNX6pkUr",
        "outputId": "e4cc4a6d-00b4-470d-f8da-9b443ae38816"
      },
      "source": [
        "test.full_text.str.split().str.len().hist()"
      ],
      "execution_count": null,
      "outputs": [
        {
          "output_type": "execute_result",
          "data": {
            "text/plain": [
              "<matplotlib.axes._subplots.AxesSubplot at 0x7f77999481d0>"
            ]
          },
          "metadata": {},
          "execution_count": 300
        },
        {
          "output_type": "display_data",
          "data": {
            "image/png": "[encoded data removed]",
            "text/plain": [
              "<Figure size 1080x648 with 1 Axes>"
            ]
          },
          "metadata": {}
        }
      ]
    },
    {
      "cell_type": "code",
      "metadata": {
        "id": "UKUINNAIkiyF"
      },
      "source": [
        "final_test_input_ids, final_test_attention_mask = text_encode(test['full_text'], tokenizer, max_len=100)"
      ],
      "execution_count": null,
      "outputs": []
    },
    {
      "cell_type": "code",
      "metadata": {
        "colab": {
          "base_uri": "https://localhost:8080/"
        },
        "id": "M-Ya91NTpc1u",
        "outputId": "cccd2672-4019-4028-d878-c2e5184143c8"
      },
      "source": [
        "pred = model.predict([final_test_input_ids, final_test_attention_mask])\n",
        "\n",
        "pred_labels = np.argmax(pred, axis=1)\n",
        "print(pred_labels)"
      ],
      "execution_count": null,
      "outputs": [
        {
          "output_type": "stream",
          "name": "stdout",
          "text": [
            "WARNING:tensorflow:The parameters `output_attentions`, `output_hidden_states` and `use_cache` cannot be updated when calling a model.They have to be set to True/False in the config object (i.e.: `config=XConfig.from_pretrained('name', output_attentions=True)`).\n",
            "WARNING:tensorflow:The parameter `return_dict` cannot be set in graph mode and will always be set to `True`.\n",
            "[3 0 0 0 0 4 0 0 0 0 0 0 0 5 0 0 5 0 0 0 0 0 0 1 0 0 0 0 0 0 0 0 0 1 0 0 0\n",
            " 0 0 0 0 0 0 0 0 0 0 0 0 0 0 0 0 0 0 0 0 0 0 0 1 0 0 0 0 3 0 0 0 0 0 0 0 0\n",
            " 5 0 2 0 0 0 0 0 0 0 0 0 0 1 0 0 0 0 0 0 0 0 0 0 0 0 0 0 0 0 0 0 0 5 0 0 0\n",
            " 0 0 0 2 0 0 0 0 0 0 0 0 0 0 0 0 6 0 0 0 0 2 1 0 0 0 0 0 0 2 0 0 4 0 3 2 0\n",
            " 0 0 0 0 0 0 0 0 0 0 0 0 0 5 0 0 0 0 0 0 0 0 0 0 0 0 0 0 0 0 0 0 0 0 3 0 0\n",
            " 4 0 0 0 0 0 0 0 0 0 0 0 0 0 0 0 1 0 0 0 0 0 0 2 0 3 0 0 0 0 0 1 0 0 0 0 0\n",
            " 0 0 2 0 0 0 0 0 0 5 0 0 0 0 0 4 2 0 0 0 6 0 0 0 0 0 0 0 0 0 0 0 0 0 0 0 0\n",
            " 0 0 0 0 0 0 0 0 0 0 5 0 3 0 0 0 0 3 0 0 0 0 0 0 0 0 0 0 6 0 0 0 0 0 1 2 0\n",
            " 2 0 6 0 5 0 0 0 0 3 3 0 1 0 0 3 0 0 0 0 0 0 0 0 0 3 0 0 0 5 0 0 0 0 0 0 0\n",
            " 0 0 0 0 0 0 0 0 0 0 4 1 2 2 0 2 0 0 0 0 0 4 0 2 0 3 0 0 0 0 6 0 0 0 0 0 1\n",
            " 0 0 0 0 0 0 0 0 0 0 0 0 0 0 0 0 0 0 0 0 0 0 0 0 4 0 0 5 3 0 6 0 4 0 5 0 0\n",
            " 0 2 0 0 0 0 0 0 0 6 0 2 0 0 0 3 4 4 0 0 0 0 0 0 2 0 0 0 0 0 0 0 0 0 4 0 0\n",
            " 0 0 0 0 0 0 0 0 0 0 3 0 0 0 0 0 0 0 0 0 0 3 0 0 0 2 0 3 0 0 6 0 0 0 0 0 0\n",
            " 0 0 0 0 0 0 0 0 0 3 0 6 0 0 0 0 0 0 0 0 0 1 0 0 0 3 0 0 1 0 0 0 2 0 0 0 0\n",
            " 0 6 0 1 4 0 3 3 3 0 2 0 0 0 0 0 0 0 0 0 1 0 0 1 0 0 2 0 0 0 4 0 2 2 0 0 0\n",
            " 0 0 2 0 0 0 0 1 2 0 0 3 0 3 0 0 0 3 0 0 0 0 0 0 0 0 0 0 0 0 0 0 0 0 0 0 4\n",
            " 0 0 6 0 3 0 0 0 0 0 0 0 0 3 0 2 0 0 0 0 0 0 0 0 0 5 0 0 1 0 0 0 0 3 0 0 0\n",
            " 0 0 0 3 0 0 2 0 0 0 0 0 0 0 0 0 0 0 1 0 0 0 2 0 0 0 0 0 0 0 0 0 0 0 0 0 0\n",
            " 0 0 0 0 0 0 0 0 1 0 0 0 0 0 0 0 0 0 0 0 0 6 0 0 3 0 2 0 0 0 0 0 0 0 0 0 0\n",
            " 0 0 0 0 0 0 0 0 1 0 0 0 0 5 0 0 0 3 0 1 0 0 0 0 2 0 0 0 0 0 0 0 1 0 0 0 0\n",
            " 0 0 1 0 0 0 0 0 6 6 0 0 0 0 0 3 0 0 1 0 2 0 0 2 0 0 0 0 0 2 0 0 0 0 0 0 0\n",
            " 2 0 2 0 0 0 3 6 0 0 0 0 0 0 0 0 0 2 0 0 3 0 2 1 0 0 0 0 0 3 0 0 0 0 2 0 0\n",
            " 0 0 0 0 0 0 0 0 0 0 0 0 0 0 0 0 0 0 0 0 0 0 3 0 0 0 0 0 3 1 0 0 0 0 0 0 0\n",
            " 2 0 0 0 0 6 0 0 0 0 0 1 0 0 0 0 0 0 0 0 0 0 0 0 0 0 0 0 0 0 0 0 0 0 0 3 0\n",
            " 0 6 0 0 0 0 0 1 0 0 0 3 0 0 0 0 0 0 0 0 0 4 0 0 0 0 0 0 0 3 0 0 0 0 0 3 0\n",
            " 0 0 0 0 2 0 0 3 0 0 3 0 0 0 6 0 0 0 0 0 0 0 0 0 0 0 0 0 0 0 1 0 0 0 0 0 0\n",
            " 0 0 0 0 0 0 0 0 0 0 0 0 0 0 0 0 0 0 0 0 0 0 0 0 0 0 0 0 0 0 0 0 0]\n"
          ]
        }
      ]
    },
    {
      "cell_type": "code",
      "metadata": {
        "colab": {
          "base_uri": "https://localhost:8080/",
          "height": 557
        },
        "id": "61XrmOdJpz_5",
        "outputId": "2a966d89-1cd3-4384-d619-f5b138b90cbf"
      },
      "source": [
        "sns.histplot(pred_labels)"
      ],
      "execution_count": null,
      "outputs": [
        {
          "output_type": "execute_result",
          "data": {
            "text/plain": [
              "<matplotlib.axes._subplots.AxesSubplot at 0x7f778e3b2610>"
            ]
          },
          "metadata": {},
          "execution_count": 305
        },
        {
          "output_type": "display_data",
          "data": {
            "image/png": "[encoded data removed]",
            "text/plain": [
              "<Figure size 1080x648 with 1 Axes>"
            ]
          },
          "metadata": {}
        }
      ]
    },
    {
      "cell_type": "code",
      "metadata": {
        "colab": {
          "base_uri": "https://localhost:8080/"
        },
        "id": "dilRQlj5qFfy",
        "outputId": "c58ada1b-e58f-4c14-9fa1-1f0525814c7b"
      },
      "source": [
        "final_preds = encoder.inverse_transform(pred_labels)\n",
        "final_preds"
      ],
      "execution_count": null,
      "outputs": [
        {
          "output_type": "execute_result",
          "data": {
            "text/plain": [
              "array([4, 1, 1, 1, 1, 5, 1, 1, 1, 1, 1, 1, 1, 6, 1, 1, 6, 1, 1, 1, 1, 1,\n",
              "       1, 2, 1, 1, 1, 1, 1, 1, 1, 1, 1, 2, 1, 1, 1, 1, 1, 1, 1, 1, 1, 1,\n",
              "       1, 1, 1, 1, 1, 1, 1, 1, 1, 1, 1, 1, 1, 1, 1, 1, 2, 1, 1, 1, 1, 4,\n",
              "       1, 1, 1, 1, 1, 1, 1, 1, 6, 1, 3, 1, 1, 1, 1, 1, 1, 1, 1, 1, 1, 2,\n",
              "       1, 1, 1, 1, 1, 1, 1, 1, 1, 1, 1, 1, 1, 1, 1, 1, 1, 1, 1, 6, 1, 1,\n",
              "       1, 1, 1, 1, 3, 1, 1, 1, 1, 1, 1, 1, 1, 1, 1, 1, 1, 7, 1, 1, 1, 1,\n",
              "       3, 2, 1, 1, 1, 1, 1, 1, 3, 1, 1, 5, 1, 4, 3, 1, 1, 1, 1, 1, 1, 1,\n",
              "       1, 1, 1, 1, 1, 1, 1, 6, 1, 1, 1, 1, 1, 1, 1, 1, 1, 1, 1, 1, 1, 1,\n",
              "       1, 1, 1, 1, 1, 1, 4, 1, 1, 5, 1, 1, 1, 1, 1, 1, 1, 1, 1, 1, 1, 1,\n",
              "       1, 1, 1, 2, 1, 1, 1, 1, 1, 1, 3, 1, 4, 1, 1, 1, 1, 1, 2, 1, 1, 1,\n",
              "       1, 1, 1, 1, 3, 1, 1, 1, 1, 1, 1, 6, 1, 1, 1, 1, 1, 5, 3, 1, 1, 1,\n",
              "       7, 1, 1, 1, 1, 1, 1, 1, 1, 1, 1, 1, 1, 1, 1, 1, 1, 1, 1, 1, 1, 1,\n",
              "       1, 1, 1, 1, 1, 6, 1, 4, 1, 1, 1, 1, 4, 1, 1, 1, 1, 1, 1, 1, 1, 1,\n",
              "       1, 7, 1, 1, 1, 1, 1, 2, 3, 1, 3, 1, 7, 1, 6, 1, 1, 1, 1, 4, 4, 1,\n",
              "       2, 1, 1, 4, 1, 1, 1, 1, 1, 1, 1, 1, 1, 4, 1, 1, 1, 6, 1, 1, 1, 1,\n",
              "       1, 1, 1, 1, 1, 1, 1, 1, 1, 1, 1, 1, 1, 5, 2, 3, 3, 1, 3, 1, 1, 1,\n",
              "       1, 1, 5, 1, 3, 1, 4, 1, 1, 1, 1, 7, 1, 1, 1, 1, 1, 2, 1, 1, 1, 1,\n",
              "       1, 1, 1, 1, 1, 1, 1, 1, 1, 1, 1, 1, 1, 1, 1, 1, 1, 1, 1, 1, 5, 1,\n",
              "       1, 6, 4, 1, 7, 1, 5, 1, 6, 1, 1, 1, 3, 1, 1, 1, 1, 1, 1, 1, 7, 1,\n",
              "       3, 1, 1, 1, 4, 5, 5, 1, 1, 1, 1, 1, 1, 3, 1, 1, 1, 1, 1, 1, 1, 1,\n",
              "       1, 5, 1, 1, 1, 1, 1, 1, 1, 1, 1, 1, 1, 1, 4, 1, 1, 1, 1, 1, 1, 1,\n",
              "       1, 1, 1, 4, 1, 1, 1, 3, 1, 4, 1, 1, 7, 1, 1, 1, 1, 1, 1, 1, 1, 1,\n",
              "       1, 1, 1, 1, 1, 1, 4, 1, 7, 1, 1, 1, 1, 1, 1, 1, 1, 1, 2, 1, 1, 1,\n",
              "       4, 1, 1, 2, 1, 1, 1, 3, 1, 1, 1, 1, 1, 7, 1, 2, 5, 1, 4, 4, 4, 1,\n",
              "       3, 1, 1, 1, 1, 1, 1, 1, 1, 1, 2, 1, 1, 2, 1, 1, 3, 1, 1, 1, 5, 1,\n",
              "       3, 3, 1, 1, 1, 1, 1, 3, 1, 1, 1, 1, 2, 3, 1, 1, 4, 1, 4, 1, 1, 1,\n",
              "       4, 1, 1, 1, 1, 1, 1, 1, 1, 1, 1, 1, 1, 1, 1, 1, 1, 1, 1, 5, 1, 1,\n",
              "       7, 1, 4, 1, 1, 1, 1, 1, 1, 1, 1, 4, 1, 3, 1, 1, 1, 1, 1, 1, 1, 1,\n",
              "       1, 6, 1, 1, 2, 1, 1, 1, 1, 4, 1, 1, 1, 1, 1, 1, 4, 1, 1, 3, 1, 1,\n",
              "       1, 1, 1, 1, 1, 1, 1, 1, 1, 2, 1, 1, 1, 3, 1, 1, 1, 1, 1, 1, 1, 1,\n",
              "       1, 1, 1, 1, 1, 1, 1, 1, 1, 1, 1, 1, 1, 1, 2, 1, 1, 1, 1, 1, 1, 1,\n",
              "       1, 1, 1, 1, 1, 7, 1, 1, 4, 1, 3, 1, 1, 1, 1, 1, 1, 1, 1, 1, 1, 1,\n",
              "       1, 1, 1, 1, 1, 1, 1, 2, 1, 1, 1, 1, 6, 1, 1, 1, 4, 1, 2, 1, 1, 1,\n",
              "       1, 3, 1, 1, 1, 1, 1, 1, 1, 2, 1, 1, 1, 1, 1, 1, 2, 1, 1, 1, 1, 1,\n",
              "       7, 7, 1, 1, 1, 1, 1, 4, 1, 1, 2, 1, 3, 1, 1, 3, 1, 1, 1, 1, 1, 3,\n",
              "       1, 1, 1, 1, 1, 1, 1, 3, 1, 3, 1, 1, 1, 4, 7, 1, 1, 1, 1, 1, 1, 1,\n",
              "       1, 1, 3, 1, 1, 4, 1, 3, 2, 1, 1, 1, 1, 1, 4, 1, 1, 1, 1, 3, 1, 1,\n",
              "       1, 1, 1, 1, 1, 1, 1, 1, 1, 1, 1, 1, 1, 1, 1, 1, 1, 1, 1, 1, 1, 1,\n",
              "       4, 1, 1, 1, 1, 1, 4, 2, 1, 1, 1, 1, 1, 1, 1, 3, 1, 1, 1, 1, 7, 1,\n",
              "       1, 1, 1, 1, 2, 1, 1, 1, 1, 1, 1, 1, 1, 1, 1, 1, 1, 1, 1, 1, 1, 1,\n",
              "       1, 1, 1, 1, 1, 1, 4, 1, 1, 7, 1, 1, 1, 1, 1, 2, 1, 1, 1, 4, 1, 1,\n",
              "       1, 1, 1, 1, 1, 1, 1, 5, 1, 1, 1, 1, 1, 1, 1, 4, 1, 1, 1, 1, 1, 4,\n",
              "       1, 1, 1, 1, 1, 3, 1, 1, 4, 1, 1, 4, 1, 1, 1, 7, 1, 1, 1, 1, 1, 1,\n",
              "       1, 1, 1, 1, 1, 1, 1, 1, 1, 2, 1, 1, 1, 1, 1, 1, 1, 1, 1, 1, 1, 1,\n",
              "       1, 1, 1, 1, 1, 1, 1, 1, 1, 1, 1, 1, 1, 1, 1, 1, 1, 1, 1, 1, 1, 1,\n",
              "       1, 1, 1, 1, 1])"
            ]
          },
          "metadata": {},
          "execution_count": 306
        }
      ]
    },
    {
      "cell_type": "code",
      "metadata": {
        "colab": {
          "base_uri": "https://localhost:8080/",
          "height": 414
        },
        "id": "gAmZSqA1xY3N",
        "outputId": "bd2d480a-00c4-41c7-d888-2e24290b8124"
      },
      "source": [
        "results"
      ],
      "execution_count": null,
      "outputs": [
        {
          "output_type": "execute_result",
          "data": {
            "text/html": [
              "<div>\n",
              "<style scoped>\n",
              "    .dataframe tbody tr th:only-of-type {\n",
              "        vertical-align: middle;\n",
              "    }\n",
              "\n",
              "    .dataframe tbody tr th {\n",
              "        vertical-align: top;\n",
              "    }\n",
              "\n",
              "    .dataframe thead th {\n",
              "        text-align: right;\n",
              "    }\n",
              "</style>\n",
              "<table border=\"1\" class=\"dataframe\">\n",
              "  <thead>\n",
              "    <tr style=\"text-align: right;\">\n",
              "      <th></th>\n",
              "      <th>sku_id</th>\n",
              "      <th>label_id</th>\n",
              "    </tr>\n",
              "  </thead>\n",
              "  <tbody>\n",
              "    <tr>\n",
              "      <th>0</th>\n",
              "      <td>193691</td>\n",
              "      <td>4</td>\n",
              "    </tr>\n",
              "    <tr>\n",
              "      <th>1</th>\n",
              "      <td>194042</td>\n",
              "      <td>1</td>\n",
              "    </tr>\n",
              "    <tr>\n",
              "      <th>2</th>\n",
              "      <td>225668</td>\n",
              "      <td>1</td>\n",
              "    </tr>\n",
              "    <tr>\n",
              "      <th>3</th>\n",
              "      <td>351205</td>\n",
              "      <td>1</td>\n",
              "    </tr>\n",
              "    <tr>\n",
              "      <th>4</th>\n",
              "      <td>374160</td>\n",
              "      <td>1</td>\n",
              "    </tr>\n",
              "    <tr>\n",
              "      <th>...</th>\n",
              "      <td>...</td>\n",
              "      <td>...</td>\n",
              "    </tr>\n",
              "    <tr>\n",
              "      <th>990</th>\n",
              "      <td>271665484</td>\n",
              "      <td>1</td>\n",
              "    </tr>\n",
              "    <tr>\n",
              "      <th>991</th>\n",
              "      <td>275348804</td>\n",
              "      <td>1</td>\n",
              "    </tr>\n",
              "    <tr>\n",
              "      <th>992</th>\n",
              "      <td>275400954</td>\n",
              "      <td>1</td>\n",
              "    </tr>\n",
              "    <tr>\n",
              "      <th>993</th>\n",
              "      <td>276209365</td>\n",
              "      <td>1</td>\n",
              "    </tr>\n",
              "    <tr>\n",
              "      <th>994</th>\n",
              "      <td>276438064</td>\n",
              "      <td>1</td>\n",
              "    </tr>\n",
              "  </tbody>\n",
              "</table>\n",
              "<p>995 rows × 2 columns</p>\n",
              "</div>"
            ],
            "text/plain": [
              "        sku_id  label_id\n",
              "0       193691         4\n",
              "1       194042         1\n",
              "2       225668         1\n",
              "3       351205         1\n",
              "4       374160         1\n",
              "..         ...       ...\n",
              "990  271665484         1\n",
              "991  275348804         1\n",
              "992  275400954         1\n",
              "993  276209365         1\n",
              "994  276438064         1\n",
              "\n",
              "[995 rows x 2 columns]"
            ]
          },
          "metadata": {},
          "execution_count": 312
        }
      ]
    },
    {
      "cell_type": "code",
      "metadata": {
        "id": "PrAsRS4wqk_s"
      },
      "source": [
        "test['label_id'] = final_preds\n",
        "results = test[['sku_id', 'label_id']]\n",
        "\n",
        "results.to_csv('/content/drive/MyDrive/***/classification_results_BERT.csv')"
      ],
      "execution_count": null,
      "outputs": []
    },
    {
      "cell_type": "code",
      "metadata": {
        "colab": {
          "base_uri": "https://localhost:8080/",
          "height": 553
        },
        "id": "UdCckAnlxwWU",
        "outputId": "1381e3f4-682e-4612-a092-e6bfcc346e78"
      },
      "source": [
        "results.groupby('label_id').size().plot(kind='pie', autopct='%.2f')\n",
        "plt.title('labels percentage')"
      ],
      "execution_count": null,
      "outputs": [
        {
          "output_type": "execute_result",
          "data": {
            "text/plain": [
              "Text(0.5, 1.0, 'labels percentage')"
            ]
          },
          "metadata": {},
          "execution_count": 313
        },
        {
          "output_type": "display_data",
          "data": {
            "image/png": "[encoded data removed]",
            "text/plain": [
              "<Figure size 1080x648 with 1 Axes>"
            ]
          },
          "metadata": {}
        }
      ]
    }
  ]
}